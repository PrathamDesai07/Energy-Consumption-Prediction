{
 "cells": [
  {
   "cell_type": "code",
   "execution_count": 2,
   "metadata": {},
   "outputs": [
    {
     "name": "stdout",
     "output_type": "stream",
     "text": [
      "   Temperature  Humidity  WindSpeed  GeneralDiffuseFlows  DiffuseFlows  hour  \\\n",
      "0    -2.122738  0.381825   -0.86001            -0.725456     -0.631787   0.0   \n",
      "1    -2.146625  0.425254   -0.86001            -0.725389     -0.632043   0.0   \n",
      "2    -2.163263  0.425254   -0.86127            -0.725417     -0.631930   0.0   \n",
      "3    -2.194892  0.456275   -0.86001            -0.725315     -0.631960   0.0   \n",
      "4    -2.227839  0.499704   -0.86085            -0.725466     -0.632043   0.0   \n",
      "\n",
      "   minute  dayofweek  quarter  month  ...  is_quarter_start  is_quarter_end  \\\n",
      "0     0.0        6.0      1.0    1.0  ...               1.0             0.0   \n",
      "1    10.0        6.0      1.0    1.0  ...               1.0             0.0   \n",
      "2    20.0        6.0      1.0    1.0  ...               1.0             0.0   \n",
      "3    30.0        6.0      1.0    1.0  ...               1.0             0.0   \n",
      "4    40.0        6.0      1.0    1.0  ...               1.0             0.0   \n",
      "\n",
      "   is_working_day  is_business_hours  is_peak_hour  minute_of_day  \\\n",
      "0             0.0                0.0           0.0            0.0   \n",
      "1             0.0                0.0           0.0           10.0   \n",
      "2             0.0                0.0           0.0           20.0   \n",
      "3             0.0                0.0           0.0           30.0   \n",
      "4             0.0                0.0           0.0           40.0   \n",
      "\n",
      "   minute_of_week         1         2         3  \n",
      "0          8640.0  0.526251  0.262361  0.330970  \n",
      "1          8650.0  0.415545  0.374886  0.328283  \n",
      "2          8660.0  0.397623  0.362116  0.316968  \n",
      "3          8670.0  0.374149  0.339738  0.298159  \n",
      "4          8680.0  0.350834  0.322796  0.286986  \n",
      "\n",
      "[5 rows x 29 columns]\n"
     ]
    }
   ],
   "source": [
    "import numpy as np\n",
    "import pandas as pd\n",
    "\n",
    "# Load the .npy file\n",
    "data = np.load(\"/teamspace/studios/this_studio/Energy-Consumption-Prediction/artifact/04_06_2025_11_01_51/data_transformation/transformed/train.npy\")\n",
    "\n",
    "columns = ['Temperature', 'Humidity', 'WindSpeed', 'GeneralDiffuseFlows', 'DiffuseFlows', 'hour', 'minute', 'dayofweek', 'quarter', 'month', 'day', 'year', 'season', 'dayofyear', 'dayofmonth', 'weekofyear', 'is_weekend', 'is_month_start', 'is_month_end', 'is_quarter_start', 'is_quarter_end', 'is_working_day', 'is_business_hours', 'is_peak_hour', 'minute_of_day', 'minute_of_week', '1', '2', '3']\n",
    "# Convert to DataFrame\n",
    "df = pd.DataFrame(data, columns = columns)\n",
    "\n",
    "# Display first few rows\n",
    "print(df.head())\n"
   ]
  },
  {
   "cell_type": "code",
   "execution_count": 3,
   "metadata": {},
   "outputs": [
    {
     "name": "stdout",
     "output_type": "stream",
     "text": [
      "         0         1        2         3         4    5     6    7    8    9   \\\n",
      "0 -2.122738  0.381825 -0.86001 -0.725456 -0.631787  0.0   0.0  6.0  1.0  1.0   \n",
      "1 -2.146625  0.425254 -0.86001 -0.725389 -0.632043  0.0  10.0  6.0  1.0  1.0   \n",
      "2 -2.163263  0.425254 -0.86127 -0.725417 -0.631930  0.0  20.0  6.0  1.0  1.0   \n",
      "3 -2.194892  0.456275 -0.86001 -0.725315 -0.631960  0.0  30.0  6.0  1.0  1.0   \n",
      "4 -2.227839  0.499704 -0.86085 -0.725466 -0.632043  0.0  40.0  6.0  1.0  1.0   \n",
      "\n",
      "   ...   19   20   21   22   23    24      25        26        27        28  \n",
      "0  ...  1.0  0.0  0.0  0.0  0.0   0.0  8640.0  0.526251  0.262361  0.330970  \n",
      "1  ...  1.0  0.0  0.0  0.0  0.0  10.0  8650.0  0.415545  0.374886  0.328283  \n",
      "2  ...  1.0  0.0  0.0  0.0  0.0  20.0  8660.0  0.397623  0.362116  0.316968  \n",
      "3  ...  1.0  0.0  0.0  0.0  0.0  30.0  8670.0  0.374149  0.339738  0.298159  \n",
      "4  ...  1.0  0.0  0.0  0.0  0.0  40.0  8680.0  0.350834  0.322796  0.286986  \n",
      "\n",
      "[5 rows x 29 columns]\n"
     ]
    }
   ],
   "source": [
    "import numpy as np\n",
    "import pandas as pd\n",
    "\n",
    "# Load the .npy file\n",
    "data = np.load(\"/teamspace/studios/this_studio/Energy-Consumption-Prediction/artifact/04_06_2025_11_01_51/data_transformation/transformed/train.npy\")\n",
    "\n",
    "# Convert to DataFrame\n",
    "df = pd.DataFrame(data)\n",
    "\n",
    "# Display first few rows\n",
    "print(df.head())\n"
   ]
  },
  {
   "cell_type": "code",
   "execution_count": 5,
   "metadata": {},
   "outputs": [],
   "source": [
    "import joblib\n",
    "\n",
    "pipeline = joblib.load(\"/teamspace/studios/this_studio/Energy-Consumption-Prediction/artifact/04_11_2025_21_03_45/data_transformation/transformed_object/preprocessing.pkl\")\n"
   ]
  },
  {
   "cell_type": "code",
   "execution_count": 6,
   "metadata": {},
   "outputs": [
    {
     "name": "stdout",
     "output_type": "stream",
     "text": [
      "{'Preprocessor': ColumnTransformer(remainder='passthrough',\n",
      "                  transformers=[('StandardScaler', StandardScaler(),\n",
      "                                 ['Temperature', 'Humidity', 'WindSpeed',\n",
      "                                  'GeneralDiffuseFlows', 'DiffuseFlows'])])}\n"
     ]
    }
   ],
   "source": [
    "print(pipeline.named_steps)\n"
   ]
  },
  {
   "cell_type": "code",
   "execution_count": 3,
   "metadata": {},
   "outputs": [
    {
     "name": "stdout",
     "output_type": "stream",
     "text": [
      "Inverse Transformed Power Consumption: [[41022.4764842 26576.6927548 14951.767424 ]]\n"
     ]
    }
   ],
   "source": [
    "import joblib\n",
    "import numpy as np\n",
    "\n",
    "# Load the pipeline\n",
    "pipeline = joblib.load(\"/teamspace/studios/this_studio/Energy-Consumption-Prediction/preprocessing_target.pkl\")\n",
    "\n",
    "# Access the ColumnTransformer\n",
    "column_transformer = pipeline.named_steps['Preprocessor']\n",
    "\n",
    "# Access the MinMaxScaler inside it\n",
    "scaler = column_transformer.named_transformers_['MinMaxScaler']\n",
    "\n",
    "# Example normalized prediction for 3 zones (Zone1, Zone2, Zone3)\n",
    "normalized_prediction = np.array([[0.78, 0.63, 0.45]])\n",
    "\n",
    "# Perform inverse transform\n",
    "original_values = scaler.inverse_transform(normalized_prediction)\n",
    "\n",
    "print(\"Inverse Transformed Power Consumption:\", original_values)\n"
   ]
  },
  {
   "cell_type": "code",
   "execution_count": 4,
   "metadata": {},
   "outputs": [
    {
     "ename": "ValueError",
     "evalue": "Expected 2D array, got 1D array instead:\narray=[0.36806414 0.3503812  0.27790105].\nReshape your data either using array.reshape(-1, 1) if your data has a single feature or array.reshape(1, -1) if it contains a single sample.",
     "output_type": "error",
     "traceback": [
      "\u001b[0;31m---------------------------------------------------------------------------\u001b[0m",
      "\u001b[0;31mValueError\u001b[0m                                Traceback (most recent call last)",
      "Cell \u001b[0;32mIn[4], line 2\u001b[0m\n\u001b[1;32m      1\u001b[0m y_pred \u001b[38;5;241m=\u001b[39m [\u001b[38;5;241m0.36806414\u001b[39m, \u001b[38;5;241m0.3503812\u001b[39m, \u001b[38;5;241m0.27790105\u001b[39m]\n\u001b[0;32m----> 2\u001b[0m original \u001b[38;5;241m=\u001b[39m \u001b[43mscaler\u001b[49m\u001b[38;5;241;43m.\u001b[39;49m\u001b[43minverse_transform\u001b[49m\u001b[43m(\u001b[49m\u001b[43my_pred\u001b[49m\u001b[43m)\u001b[49m\n",
      "File \u001b[0;32m/home/zeus/miniconda3/envs/cloudspace/lib/python3.10/site-packages/sklearn/preprocessing/_data.py:544\u001b[0m, in \u001b[0;36mMinMaxScaler.inverse_transform\u001b[0;34m(self, X)\u001b[0m\n\u001b[1;32m    530\u001b[0m \u001b[38;5;250m\u001b[39m\u001b[38;5;124;03m\"\"\"Undo the scaling of X according to feature_range.\u001b[39;00m\n\u001b[1;32m    531\u001b[0m \n\u001b[1;32m    532\u001b[0m \u001b[38;5;124;03mParameters\u001b[39;00m\n\u001b[0;32m   (...)\u001b[0m\n\u001b[1;32m    540\u001b[0m \u001b[38;5;124;03m    Transformed data.\u001b[39;00m\n\u001b[1;32m    541\u001b[0m \u001b[38;5;124;03m\"\"\"\u001b[39;00m\n\u001b[1;32m    542\u001b[0m check_is_fitted(\u001b[38;5;28mself\u001b[39m)\n\u001b[0;32m--> 544\u001b[0m X \u001b[38;5;241m=\u001b[39m \u001b[43mcheck_array\u001b[49m\u001b[43m(\u001b[49m\n\u001b[1;32m    545\u001b[0m \u001b[43m    \u001b[49m\u001b[43mX\u001b[49m\u001b[43m,\u001b[49m\u001b[43m \u001b[49m\u001b[43mcopy\u001b[49m\u001b[38;5;241;43m=\u001b[39;49m\u001b[38;5;28;43mself\u001b[39;49m\u001b[38;5;241;43m.\u001b[39;49m\u001b[43mcopy\u001b[49m\u001b[43m,\u001b[49m\u001b[43m \u001b[49m\u001b[43mdtype\u001b[49m\u001b[38;5;241;43m=\u001b[39;49m\u001b[43mFLOAT_DTYPES\u001b[49m\u001b[43m,\u001b[49m\u001b[43m \u001b[49m\u001b[43mforce_all_finite\u001b[49m\u001b[38;5;241;43m=\u001b[39;49m\u001b[38;5;124;43m\"\u001b[39;49m\u001b[38;5;124;43mallow-nan\u001b[39;49m\u001b[38;5;124;43m\"\u001b[39;49m\n\u001b[1;32m    546\u001b[0m \u001b[43m\u001b[49m\u001b[43m)\u001b[49m\n\u001b[1;32m    548\u001b[0m X \u001b[38;5;241m-\u001b[39m\u001b[38;5;241m=\u001b[39m \u001b[38;5;28mself\u001b[39m\u001b[38;5;241m.\u001b[39mmin_\n\u001b[1;32m    549\u001b[0m X \u001b[38;5;241m/\u001b[39m\u001b[38;5;241m=\u001b[39m \u001b[38;5;28mself\u001b[39m\u001b[38;5;241m.\u001b[39mscale_\n",
      "File \u001b[0;32m/home/zeus/miniconda3/envs/cloudspace/lib/python3.10/site-packages/sklearn/utils/validation.py:938\u001b[0m, in \u001b[0;36mcheck_array\u001b[0;34m(array, accept_sparse, accept_large_sparse, dtype, order, copy, force_all_finite, ensure_2d, allow_nd, ensure_min_samples, ensure_min_features, estimator, input_name)\u001b[0m\n\u001b[1;32m    936\u001b[0m     \u001b[38;5;66;03m# If input is 1D raise error\u001b[39;00m\n\u001b[1;32m    937\u001b[0m     \u001b[38;5;28;01mif\u001b[39;00m array\u001b[38;5;241m.\u001b[39mndim \u001b[38;5;241m==\u001b[39m \u001b[38;5;241m1\u001b[39m:\n\u001b[0;32m--> 938\u001b[0m         \u001b[38;5;28;01mraise\u001b[39;00m \u001b[38;5;167;01mValueError\u001b[39;00m(\n\u001b[1;32m    939\u001b[0m             \u001b[38;5;124m\"\u001b[39m\u001b[38;5;124mExpected 2D array, got 1D array instead:\u001b[39m\u001b[38;5;130;01m\\n\u001b[39;00m\u001b[38;5;124marray=\u001b[39m\u001b[38;5;132;01m{}\u001b[39;00m\u001b[38;5;124m.\u001b[39m\u001b[38;5;130;01m\\n\u001b[39;00m\u001b[38;5;124m\"\u001b[39m\n\u001b[1;32m    940\u001b[0m             \u001b[38;5;124m\"\u001b[39m\u001b[38;5;124mReshape your data either using array.reshape(-1, 1) if \u001b[39m\u001b[38;5;124m\"\u001b[39m\n\u001b[1;32m    941\u001b[0m             \u001b[38;5;124m\"\u001b[39m\u001b[38;5;124myour data has a single feature or array.reshape(1, -1) \u001b[39m\u001b[38;5;124m\"\u001b[39m\n\u001b[1;32m    942\u001b[0m             \u001b[38;5;124m\"\u001b[39m\u001b[38;5;124mif it contains a single sample.\u001b[39m\u001b[38;5;124m\"\u001b[39m\u001b[38;5;241m.\u001b[39mformat(array)\n\u001b[1;32m    943\u001b[0m         )\n\u001b[1;32m    945\u001b[0m \u001b[38;5;28;01mif\u001b[39;00m dtype_numeric \u001b[38;5;129;01mand\u001b[39;00m \u001b[38;5;28mhasattr\u001b[39m(array\u001b[38;5;241m.\u001b[39mdtype, \u001b[38;5;124m\"\u001b[39m\u001b[38;5;124mkind\u001b[39m\u001b[38;5;124m\"\u001b[39m) \u001b[38;5;129;01mand\u001b[39;00m array\u001b[38;5;241m.\u001b[39mdtype\u001b[38;5;241m.\u001b[39mkind \u001b[38;5;129;01min\u001b[39;00m \u001b[38;5;124m\"\u001b[39m\u001b[38;5;124mUSV\u001b[39m\u001b[38;5;124m\"\u001b[39m:\n\u001b[1;32m    946\u001b[0m     \u001b[38;5;28;01mraise\u001b[39;00m \u001b[38;5;167;01mValueError\u001b[39;00m(\n\u001b[1;32m    947\u001b[0m         \u001b[38;5;124m\"\u001b[39m\u001b[38;5;124mdtype=\u001b[39m\u001b[38;5;124m'\u001b[39m\u001b[38;5;124mnumeric\u001b[39m\u001b[38;5;124m'\u001b[39m\u001b[38;5;124m is not compatible with arrays of bytes/strings.\u001b[39m\u001b[38;5;124m\"\u001b[39m\n\u001b[1;32m    948\u001b[0m         \u001b[38;5;124m\"\u001b[39m\u001b[38;5;124mConvert your data to numeric values explicitly instead.\u001b[39m\u001b[38;5;124m\"\u001b[39m\n\u001b[1;32m    949\u001b[0m     )\n",
      "\u001b[0;31mValueError\u001b[0m: Expected 2D array, got 1D array instead:\narray=[0.36806414 0.3503812  0.27790105].\nReshape your data either using array.reshape(-1, 1) if your data has a single feature or array.reshape(1, -1) if it contains a single sample."
     ]
    }
   ],
   "source": [
    "y_pred = [0.36806414, 0.3503812, 0.27790105]\n",
    "original = scaler.inverse_transform(y_pred)"
   ]
  },
  {
   "cell_type": "code",
   "execution_count": null,
   "metadata": {},
   "outputs": [],
   "source": []
  }
 ],
 "metadata": {
  "language_info": {
   "name": "python"
  }
 },
 "nbformat": 4,
 "nbformat_minor": 2
}
