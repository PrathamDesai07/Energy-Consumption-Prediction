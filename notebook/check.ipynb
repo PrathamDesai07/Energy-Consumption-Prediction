{
 "cells": [
  {
   "cell_type": "code",
   "execution_count": 2,
   "metadata": {},
   "outputs": [
    {
     "name": "stdout",
     "output_type": "stream",
     "text": [
      "   Temperature  Humidity  WindSpeed  GeneralDiffuseFlows  DiffuseFlows  hour  \\\n",
      "0    -2.122738  0.381825   -0.86001            -0.725456     -0.631787   0.0   \n",
      "1    -2.146625  0.425254   -0.86001            -0.725389     -0.632043   0.0   \n",
      "2    -2.163263  0.425254   -0.86127            -0.725417     -0.631930   0.0   \n",
      "3    -2.194892  0.456275   -0.86001            -0.725315     -0.631960   0.0   \n",
      "4    -2.227839  0.499704   -0.86085            -0.725466     -0.632043   0.0   \n",
      "\n",
      "   minute  dayofweek  quarter  month  ...  is_quarter_start  is_quarter_end  \\\n",
      "0     0.0        6.0      1.0    1.0  ...               1.0             0.0   \n",
      "1    10.0        6.0      1.0    1.0  ...               1.0             0.0   \n",
      "2    20.0        6.0      1.0    1.0  ...               1.0             0.0   \n",
      "3    30.0        6.0      1.0    1.0  ...               1.0             0.0   \n",
      "4    40.0        6.0      1.0    1.0  ...               1.0             0.0   \n",
      "\n",
      "   is_working_day  is_business_hours  is_peak_hour  minute_of_day  \\\n",
      "0             0.0                0.0           0.0            0.0   \n",
      "1             0.0                0.0           0.0           10.0   \n",
      "2             0.0                0.0           0.0           20.0   \n",
      "3             0.0                0.0           0.0           30.0   \n",
      "4             0.0                0.0           0.0           40.0   \n",
      "\n",
      "   minute_of_week         1         2         3  \n",
      "0          8640.0  0.526251  0.262361  0.330970  \n",
      "1          8650.0  0.415545  0.374886  0.328283  \n",
      "2          8660.0  0.397623  0.362116  0.316968  \n",
      "3          8670.0  0.374149  0.339738  0.298159  \n",
      "4          8680.0  0.350834  0.322796  0.286986  \n",
      "\n",
      "[5 rows x 29 columns]\n"
     ]
    }
   ],
   "source": [
    "import numpy as np\n",
    "import pandas as pd\n",
    "\n",
    "# Load the .npy file\n",
    "data = np.load(\"/teamspace/studios/this_studio/Energy-Consumption-Prediction/artifact/04_06_2025_11_01_51/data_transformation/transformed/train.npy\")\n",
    "\n",
    "columns = ['Temperature', 'Humidity', 'WindSpeed', 'GeneralDiffuseFlows', 'DiffuseFlows', 'hour', 'minute', 'dayofweek', 'quarter', 'month', 'day', 'year', 'season', 'dayofyear', 'dayofmonth', 'weekofyear', 'is_weekend', 'is_month_start', 'is_month_end', 'is_quarter_start', 'is_quarter_end', 'is_working_day', 'is_business_hours', 'is_peak_hour', 'minute_of_day', 'minute_of_week', '1', '2', '3']\n",
    "# Convert to DataFrame\n",
    "df = pd.DataFrame(data, columns = columns)\n",
    "\n",
    "# Display first few rows\n",
    "print(df.head())\n"
   ]
  },
  {
   "cell_type": "code",
   "execution_count": 3,
   "metadata": {},
   "outputs": [
    {
     "name": "stdout",
     "output_type": "stream",
     "text": [
      "         0         1        2         3         4    5     6    7    8    9   \\\n",
      "0 -2.122738  0.381825 -0.86001 -0.725456 -0.631787  0.0   0.0  6.0  1.0  1.0   \n",
      "1 -2.146625  0.425254 -0.86001 -0.725389 -0.632043  0.0  10.0  6.0  1.0  1.0   \n",
      "2 -2.163263  0.425254 -0.86127 -0.725417 -0.631930  0.0  20.0  6.0  1.0  1.0   \n",
      "3 -2.194892  0.456275 -0.86001 -0.725315 -0.631960  0.0  30.0  6.0  1.0  1.0   \n",
      "4 -2.227839  0.499704 -0.86085 -0.725466 -0.632043  0.0  40.0  6.0  1.0  1.0   \n",
      "\n",
      "   ...   19   20   21   22   23    24      25        26        27        28  \n",
      "0  ...  1.0  0.0  0.0  0.0  0.0   0.0  8640.0  0.526251  0.262361  0.330970  \n",
      "1  ...  1.0  0.0  0.0  0.0  0.0  10.0  8650.0  0.415545  0.374886  0.328283  \n",
      "2  ...  1.0  0.0  0.0  0.0  0.0  20.0  8660.0  0.397623  0.362116  0.316968  \n",
      "3  ...  1.0  0.0  0.0  0.0  0.0  30.0  8670.0  0.374149  0.339738  0.298159  \n",
      "4  ...  1.0  0.0  0.0  0.0  0.0  40.0  8680.0  0.350834  0.322796  0.286986  \n",
      "\n",
      "[5 rows x 29 columns]\n"
     ]
    }
   ],
   "source": [
    "import numpy as np\n",
    "import pandas as pd\n",
    "\n",
    "# Load the .npy file\n",
    "data = np.load(\"/teamspace/studios/this_studio/Energy-Consumption-Prediction/artifact/04_06_2025_11_01_51/data_transformation/transformed/train.npy\")\n",
    "\n",
    "# Convert to DataFrame\n",
    "df = pd.DataFrame(data)\n",
    "\n",
    "# Display first few rows\n",
    "print(df.head())\n"
   ]
  },
  {
   "cell_type": "code",
   "execution_count": 1,
   "metadata": {},
   "outputs": [],
   "source": [
    "import joblib\n",
    "\n",
    "pipeline = joblib.load(\"/teamspace/studios/this_studio/Energy-Consumption-Prediction/preprocessing.pkl\")\n"
   ]
  },
  {
   "cell_type": "code",
   "execution_count": 2,
   "metadata": {},
   "outputs": [
    {
     "name": "stdout",
     "output_type": "stream",
     "text": [
      "{'Preprocessor': ColumnTransformer(remainder='passthrough',\n",
      "                  transformers=[('MinMaxScaler', MinMaxScaler(),\n",
      "                                 ['PowerConsumption_Zone1',\n",
      "                                  'PowerConsumption_Zone2',\n",
      "                                  'PowerConsumption_Zone3'])])}\n"
     ]
    }
   ],
   "source": [
    "print(pipeline.named_steps)\n"
   ]
  },
  {
   "cell_type": "code",
   "execution_count": 7,
   "metadata": {},
   "outputs": [
    {
     "name": "stdout",
     "output_type": "stream",
     "text": [
      "Inverse Transformed Power Consumption: [[41022.4764842 26576.6927548 14951.767424 ]]\n"
     ]
    }
   ],
   "source": [
    "import joblib\n",
    "import numpy as np\n",
    "\n",
    "# Load the pipeline\n",
    "pipeline = joblib.load(\"/teamspace/studios/this_studio/Energy-Consumption-Prediction/preprocessing.pkl\")\n",
    "\n",
    "# Access the ColumnTransformer\n",
    "column_transformer = pipeline.named_steps['Preprocessor']\n",
    "\n",
    "# Access the MinMaxScaler inside it\n",
    "scaler = column_transformer.named_transformers_['MinMaxScaler']\n",
    "\n",
    "# Example normalized prediction for 3 zones (Zone1, Zone2, Zone3)\n",
    "normalized_prediction = np.array([[0.78, 0.63, 0.45]])\n",
    "\n",
    "# Perform inverse transform\n",
    "original_values = scaler.inverse_transform(normalized_prediction)\n",
    "\n",
    "print(\"Inverse Transformed Power Consumption:\", original_values)\n"
   ]
  },
  {
   "cell_type": "code",
   "execution_count": 6,
   "metadata": {},
   "outputs": [
    {
     "ename": "AttributeError",
     "evalue": "'ColumnTransformer' object has no attribute 'inverse_transform'",
     "output_type": "error",
     "traceback": [
      "\u001b[0;31m---------------------------------------------------------------------------\u001b[0m",
      "\u001b[0;31mAttributeError\u001b[0m                            Traceback (most recent call last)",
      "Cell \u001b[0;32mIn[6], line 2\u001b[0m\n\u001b[1;32m      1\u001b[0m y_pred \u001b[38;5;241m=\u001b[39m [\u001b[38;5;241m0.36806414\u001b[39m, \u001b[38;5;241m0.3503812\u001b[39m, \u001b[38;5;241m0.27790105\u001b[39m]\n\u001b[0;32m----> 2\u001b[0m original \u001b[38;5;241m=\u001b[39m \u001b[43mscaler\u001b[49m\u001b[38;5;241;43m.\u001b[39;49m\u001b[43minverse_transform\u001b[49m(y_pred)\n",
      "\u001b[0;31mAttributeError\u001b[0m: 'ColumnTransformer' object has no attribute 'inverse_transform'"
     ]
    }
   ],
   "source": [
    "y_pred = [0.36806414, 0.3503812, 0.27790105]\n",
    "original = scaler.inverse_transform(y_pred)"
   ]
  },
  {
   "cell_type": "code",
   "execution_count": null,
   "metadata": {},
   "outputs": [],
   "source": []
  }
 ],
 "metadata": {
  "language_info": {
   "name": "python"
  }
 },
 "nbformat": 4,
 "nbformat_minor": 2
}
